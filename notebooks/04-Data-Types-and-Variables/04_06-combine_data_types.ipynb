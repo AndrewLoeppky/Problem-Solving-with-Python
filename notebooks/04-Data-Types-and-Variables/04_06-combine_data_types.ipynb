{
 "cells": [
  {
   "cell_type": "markdown",
   "id": "12c42565",
   "metadata": {},
   "source": [
    "# Combining Data Types\n",
    "\n",
    "## Casting, Calculation, and Concatination\n",
    "\n",
    "Python is a *loosely typed* programming language, meaning that variables do not need to be explicitly declared alongside their data type, and they can sometimes dynamically change type to suit a particular requirement. "
   ]
  },
  {
   "cell_type": "markdown",
   "id": "ee46bd23",
   "metadata": {},
   "source": [
    "### Casting\n",
    "\n",
    "Sometimes it is useful to explicitly force a variable to change from one data type to another. We can do this with *type casting,* re-assigning variables the basic data types int, float, string, or boolean. The syntax doing this is:\n",
    "\n",
    "```python\n",
    "float(variable)  # re-assigns a variable as data type \"float\"\n",
    "\n",
    "int(variable)  # re-assigns a variable as data type \"int\"\n",
    "\n",
    "str(variable)  # re-assigns a variable as data type \"str\"\n",
    "\n",
    "bool(variable)  # re-assigns a variable as data type \"boolean\"\n",
    "```\n",
    "\n",
    "Casting to float will add a decimal place to an integer, or convert the string `\"3.0\"` to the float `3.0`. The boolean `False` will be converted to `0.0` and `True` to `1.0`"
   ]
  },
  {
   "cell_type": "code",
   "execution_count": 33,
   "id": "e0406db4",
   "metadata": {},
   "outputs": [
    {
     "data": {
      "text/plain": [
       "3.0"
      ]
     },
     "execution_count": 33,
     "metadata": {},
     "output_type": "execute_result"
    }
   ],
   "source": [
    "float(3)"
   ]
  },
  {
   "cell_type": "code",
   "execution_count": 52,
   "id": "f7d020d7",
   "metadata": {},
   "outputs": [
    {
     "data": {
      "text/plain": [
       "3.0"
      ]
     },
     "execution_count": 52,
     "metadata": {},
     "output_type": "execute_result"
    }
   ],
   "source": [
    "float(\"3.0\")"
   ]
  },
  {
   "cell_type": "code",
   "execution_count": 53,
   "id": "7467cca0",
   "metadata": {},
   "outputs": [
    {
     "data": {
      "text/plain": [
       "1.0"
      ]
     },
     "execution_count": 53,
     "metadata": {},
     "output_type": "execute_result"
    }
   ],
   "source": [
    "float(True)"
   ]
  },
  {
   "cell_type": "markdown",
   "id": "93380f06",
   "metadata": {},
   "source": [
    "Casting from float to int will *truncate* the decimal place, **not round it** (if you want to round a number to the nearest integer, use the built-in function ```round()```) Booleans `True` and `False` are converted to `1` and `0`."
   ]
  },
  {
   "cell_type": "code",
   "execution_count": 37,
   "id": "71465c1c",
   "metadata": {},
   "outputs": [
    {
     "data": {
      "text/plain": [
       "2"
      ]
     },
     "execution_count": 37,
     "metadata": {},
     "output_type": "execute_result"
    }
   ],
   "source": [
    "int(2.0)"
   ]
  },
  {
   "cell_type": "code",
   "execution_count": 39,
   "id": "2379ca95",
   "metadata": {},
   "outputs": [
    {
     "data": {
      "text/plain": [
       "2"
      ]
     },
     "execution_count": 39,
     "metadata": {},
     "output_type": "execute_result"
    }
   ],
   "source": [
    "int(2.9)"
   ]
  },
  {
   "cell_type": "code",
   "execution_count": 46,
   "id": "6c2666e9",
   "metadata": {},
   "outputs": [
    {
     "data": {
      "text/plain": [
       "3"
      ]
     },
     "execution_count": 46,
     "metadata": {},
     "output_type": "execute_result"
    }
   ],
   "source": [
    "round(2.9)"
   ]
  },
  {
   "cell_type": "code",
   "execution_count": 48,
   "id": "a606dc99",
   "metadata": {},
   "outputs": [
    {
     "data": {
      "text/plain": [
       "0"
      ]
     },
     "execution_count": 48,
     "metadata": {},
     "output_type": "execute_result"
    }
   ],
   "source": [
    "int(False)"
   ]
  },
  {
   "cell_type": "code",
   "execution_count": 56,
   "id": "337c6665",
   "metadata": {},
   "outputs": [
    {
     "data": {
      "text/plain": [
       "19"
      ]
     },
     "execution_count": 56,
     "metadata": {},
     "output_type": "execute_result"
    }
   ],
   "source": [
    "int(\"19\")"
   ]
  },
  {
   "cell_type": "markdown",
   "id": "943b7c37",
   "metadata": {},
   "source": [
    "Casting to a string will return a string containing the number or boolean value"
   ]
  },
  {
   "cell_type": "code",
   "execution_count": 70,
   "id": "1c242f87",
   "metadata": {},
   "outputs": [
    {
     "data": {
      "text/plain": [
       "'29'"
      ]
     },
     "execution_count": 70,
     "metadata": {},
     "output_type": "execute_result"
    }
   ],
   "source": [
    "str(29)"
   ]
  },
  {
   "cell_type": "code",
   "execution_count": 59,
   "id": "02672e90",
   "metadata": {},
   "outputs": [
    {
     "data": {
      "text/plain": [
       "'29.1'"
      ]
     },
     "execution_count": 59,
     "metadata": {},
     "output_type": "execute_result"
    }
   ],
   "source": [
    "str(29.1)"
   ]
  },
  {
   "cell_type": "code",
   "execution_count": 60,
   "id": "74041aaf",
   "metadata": {},
   "outputs": [
    {
     "data": {
      "text/plain": [
       "'True'"
      ]
     },
     "execution_count": 60,
     "metadata": {},
     "output_type": "execute_result"
    }
   ],
   "source": [
    "str(True)"
   ]
  },
  {
   "cell_type": "markdown",
   "id": "4bc7add5",
   "metadata": {},
   "source": [
    "Casting to boolean will return `False` for the integer `0`, float `0.0` or empty string \"\", and `True` for pretty much anything else"
   ]
  },
  {
   "cell_type": "code",
   "execution_count": 62,
   "id": "ce369530",
   "metadata": {},
   "outputs": [
    {
     "data": {
      "text/plain": [
       "False"
      ]
     },
     "execution_count": 62,
     "metadata": {},
     "output_type": "execute_result"
    }
   ],
   "source": [
    "bool(0)"
   ]
  },
  {
   "cell_type": "code",
   "execution_count": 64,
   "id": "4c3879e8",
   "metadata": {},
   "outputs": [
    {
     "data": {
      "text/plain": [
       "True"
      ]
     },
     "execution_count": 64,
     "metadata": {},
     "output_type": "execute_result"
    }
   ],
   "source": [
    "bool(1.0)"
   ]
  },
  {
   "cell_type": "code",
   "execution_count": 67,
   "id": "4b070daf",
   "metadata": {},
   "outputs": [
    {
     "data": {
      "text/plain": [
       "False"
      ]
     },
     "execution_count": 67,
     "metadata": {},
     "output_type": "execute_result"
    }
   ],
   "source": [
    "bool('')"
   ]
  },
  {
   "cell_type": "code",
   "execution_count": 71,
   "id": "ef9e1c5f",
   "metadata": {},
   "outputs": [
    {
     "data": {
      "text/plain": [
       "True"
      ]
     },
     "execution_count": 71,
     "metadata": {},
     "output_type": "execute_result"
    }
   ],
   "source": [
    "bool(\"pirates\")"
   ]
  },
  {
   "cell_type": "markdown",
   "id": "888b5d6b",
   "metadata": {},
   "source": [
    "Casting only works within a valid range of variables that can be converted. Invalid type casts will raise an *error*:"
   ]
  },
  {
   "cell_type": "code",
   "execution_count": 73,
   "id": "3dbcd45b",
   "metadata": {},
   "outputs": [
    {
     "ename": "ValueError",
     "evalue": "invalid literal for int() with base 10: 'fourteen'",
     "output_type": "error",
     "traceback": [
      "\u001b[1;31m---------------------------------------------------------------------------\u001b[0m",
      "\u001b[1;31mValueError\u001b[0m                                Traceback (most recent call last)",
      "\u001b[1;32m~\\AppData\\Local\\Temp/ipykernel_12828/536369517.py\u001b[0m in \u001b[0;36m<module>\u001b[1;34m\u001b[0m\n\u001b[1;32m----> 1\u001b[1;33m \u001b[0mint\u001b[0m\u001b[1;33m(\u001b[0m\u001b[1;34m\"fourteen\"\u001b[0m\u001b[1;33m)\u001b[0m\u001b[1;33m\u001b[0m\u001b[1;33m\u001b[0m\u001b[0m\n\u001b[0m",
      "\u001b[1;31mValueError\u001b[0m: invalid literal for int() with base 10: 'fourteen'"
     ]
    }
   ],
   "source": [
    "int(\"fourteen\")"
   ]
  },
  {
   "cell_type": "markdown",
   "id": "ad470e00",
   "metadata": {},
   "source": [
    "### Calculations\n",
    "\n",
    "For many operations, *type casting* occurs automatically. Python's built-in mathematical functions work with any combination of *int* and *float* data types, and the python interpreter will assign the output as type *int* if possible, or *float* if not."
   ]
  },
  {
   "cell_type": "code",
   "execution_count": 18,
   "id": "031d6a38",
   "metadata": {},
   "outputs": [
    {
     "data": {
      "text/plain": [
       "8"
      ]
     },
     "execution_count": 18,
     "metadata": {},
     "output_type": "execute_result"
    }
   ],
   "source": [
    "ans = 6 + 2\n",
    "ans"
   ]
  },
  {
   "cell_type": "code",
   "execution_count": 19,
   "id": "500f314e",
   "metadata": {},
   "outputs": [
    {
     "data": {
      "text/plain": [
       "int"
      ]
     },
     "execution_count": 19,
     "metadata": {},
     "output_type": "execute_result"
    }
   ],
   "source": [
    "type(ans)"
   ]
  },
  {
   "cell_type": "code",
   "execution_count": 21,
   "id": "1c76fd11",
   "metadata": {},
   "outputs": [
    {
     "data": {
      "text/plain": [
       "2.8"
      ]
     },
     "execution_count": 21,
     "metadata": {},
     "output_type": "execute_result"
    }
   ],
   "source": [
    "ans = 8 - 5.2\n",
    "ans"
   ]
  },
  {
   "cell_type": "code",
   "execution_count": 22,
   "id": "7b9247a7",
   "metadata": {},
   "outputs": [
    {
     "data": {
      "text/plain": [
       "float"
      ]
     },
     "execution_count": 22,
     "metadata": {},
     "output_type": "execute_result"
    }
   ],
   "source": [
    "type(ans)"
   ]
  },
  {
   "cell_type": "markdown",
   "id": "f1e5ee53",
   "metadata": {},
   "source": [
    "Similarly for multiplication and division:"
   ]
  },
  {
   "cell_type": "code",
   "execution_count": 13,
   "id": "d476d7a2",
   "metadata": {},
   "outputs": [
    {
     "data": {
      "text/plain": [
       "int"
      ]
     },
     "execution_count": 13,
     "metadata": {},
     "output_type": "execute_result"
    }
   ],
   "source": [
    "ans = 4 * 2\n",
    "type(ans)"
   ]
  },
  {
   "cell_type": "code",
   "execution_count": 74,
   "id": "cbbc467e",
   "metadata": {},
   "outputs": [
    {
     "data": {
      "text/plain": [
       "float"
      ]
     },
     "execution_count": 74,
     "metadata": {},
     "output_type": "execute_result"
    }
   ],
   "source": [
    "ans = 5 / 2\n",
    "type(ans)"
   ]
  },
  {
   "cell_type": "markdown",
   "id": "4c29fd11",
   "metadata": {},
   "source": [
    "### Concatenation/Formatted Strings\n",
    "\n",
    "Often, we would like to stick strings together, or express a numerical value within an existing string. The python syntax offers several ways to do this. \n",
    "\n",
    "1. The `+` operator works to *concatenate* strings together, i.e. take the string to the right of the operator and stick it to the end of the string on the left"
   ]
  },
  {
   "cell_type": "code",
   "execution_count": 84,
   "id": "e56515f9",
   "metadata": {},
   "outputs": [
    {
     "data": {
      "text/plain": [
       "'racecar'"
      ]
     },
     "execution_count": 84,
     "metadata": {},
     "output_type": "execute_result"
    }
   ],
   "source": [
    "str1 = \"race\"\n",
    "str2 = \"car\"\n",
    "\n",
    "str1 + str2"
   ]
  },
  {
   "cell_type": "markdown",
   "id": "7c787df3",
   "metadata": {},
   "source": [
    "However, this doesn't work for combinations of string and numeric data types, as the `+` operator has a different meaning for int and float -- the interpreter can't figure out whether to add numeric values or concatenate strings."
   ]
  },
  {
   "cell_type": "code",
   "execution_count": 91,
   "id": "137810d4",
   "metadata": {},
   "outputs": [
    {
     "ename": "TypeError",
     "evalue": "unsupported operand type(s) for +: 'int' and 'str'",
     "output_type": "error",
     "traceback": [
      "\u001b[1;31m---------------------------------------------------------------------------\u001b[0m",
      "\u001b[1;31mTypeError\u001b[0m                                 Traceback (most recent call last)",
      "\u001b[1;32m~\\AppData\\Local\\Temp/ipykernel_12828/3430437526.py\u001b[0m in \u001b[0;36m<module>\u001b[1;34m\u001b[0m\n\u001b[0;32m      1\u001b[0m \u001b[0mnum\u001b[0m \u001b[1;33m=\u001b[0m \u001b[1;36m3\u001b[0m\u001b[1;33m\u001b[0m\u001b[1;33m\u001b[0m\u001b[0m\n\u001b[1;32m----> 2\u001b[1;33m \u001b[0mprint\u001b[0m\u001b[1;33m(\u001b[0m\u001b[0mnum\u001b[0m \u001b[1;33m+\u001b[0m \u001b[1;34m\" blind mice\"\u001b[0m\u001b[1;33m)\u001b[0m\u001b[1;33m\u001b[0m\u001b[1;33m\u001b[0m\u001b[0m\n\u001b[0m",
      "\u001b[1;31mTypeError\u001b[0m: unsupported operand type(s) for +: 'int' and 'str'"
     ]
    }
   ],
   "source": [
    "num = 3\n",
    "print(num + \" blind mice\")"
   ]
  },
  {
   "cell_type": "markdown",
   "id": "7d91382e",
   "metadata": {},
   "source": [
    "There are a few ways to overcome this problem. \n",
    "\n",
    "A) Using *type casting*:"
   ]
  },
  {
   "cell_type": "code",
   "execution_count": 92,
   "id": "31a350b8",
   "metadata": {},
   "outputs": [
    {
     "name": "stdout",
     "output_type": "stream",
     "text": [
      "3 blind mice\n"
     ]
    }
   ],
   "source": [
    "print(str(3) + \" blind mice\")"
   ]
  },
  {
   "cell_type": "markdown",
   "id": "0b3e7b8a",
   "metadata": {},
   "source": [
    "B) Use a *tuple* containing strings and numeric data:"
   ]
  },
  {
   "cell_type": "code",
   "execution_count": 93,
   "id": "fac109d6",
   "metadata": {},
   "outputs": [
    {
     "name": "stdout",
     "output_type": "stream",
     "text": [
      "3 blind mice\n"
     ]
    }
   ],
   "source": [
    "print(3, \"blind mice\")"
   ]
  },
  {
   "cell_type": "markdown",
   "id": "2974de85",
   "metadata": {},
   "source": [
    "C) Using *f string literals*. Type the letter `f` at the beginning of a string, then insert any variable inside of curly brackets `{variable}` and it will format the variable into the string (This is the best way that will work in the largest variety of contexts):"
   ]
  },
  {
   "cell_type": "code",
   "execution_count": 94,
   "id": "c49ffdb0",
   "metadata": {},
   "outputs": [
    {
     "name": "stdout",
     "output_type": "stream",
     "text": [
      "3 blind mice\n"
     ]
    }
   ],
   "source": [
    "print(f\"{3} blind mice\")"
   ]
  }
 ],
 "metadata": {
  "kernelspec": {
   "display_name": "Python 3 (ipykernel)",
   "language": "python",
   "name": "python3"
  },
  "language_info": {
   "codemirror_mode": {
    "name": "ipython",
    "version": 3
   },
   "file_extension": ".py",
   "mimetype": "text/x-python",
   "name": "python",
   "nbconvert_exporter": "python",
   "pygments_lexer": "ipython3",
   "version": "3.8.10"
  }
 },
 "nbformat": 4,
 "nbformat_minor": 5
}
