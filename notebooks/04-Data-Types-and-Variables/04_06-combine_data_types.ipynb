{
 "cells": [
  {
   "cell_type": "markdown",
   "id": "cbf98b3e",
   "metadata": {},
   "source": [
    "# Combining Data Types\n",
    "\n",
    "## Casting, Calculation, and Concatination\n",
    "\n",
    "Python is a *loosely typed* programming language, meaning that variables do not need to be explicitly declared alongside their data type, and they can sometimes dynamically change type to suit a particular requirement."
   ]
  },
  {
   "cell_type": "markdown",
   "id": "691cf7ca",
   "metadata": {},
   "source": [
    "### Casting\n",
    "\n",
    "Sometimes it is useful to explicitly force a variable to change from one data type to another. We can do this with *type casting,* re-assigning variables the basic data types int, float, string, or boolean. The syntax doing this is:\n",
    "\n",
    "```python\n",
    "float(variable)  # re-assigns a variable as data type \"float\"\n",
    "\n",
    "int(variable)  # re-assigns a variable as data type \"int\"\n",
    "\n",
    "str(variable)  # re-assigns a variable as data type \"str\"\n",
    "\n",
    "bool(variable)  # re-assigns a variable as data type \"boolean\"\n",
    "```\n",
    "\n",
    "Casting to float will add a decimal place to an integer, or convert the string `\"3.0\"` to the float `3.0`. The boolean `False` will be converted to `0.0` and `True` to `1.0`"
   ]
  },
  {
   "cell_type": "code",
   "execution_count": null,
   "id": "d1548811",
   "metadata": {},
   "outputs": [],
   "source": [
    "float(3)"
   ]
  },
  {
   "cell_type": "code",
   "execution_count": null,
   "id": "a5f96a17",
   "metadata": {},
   "outputs": [],
   "source": [
    "float(\"3.0\")"
   ]
  },
  {
   "cell_type": "code",
   "execution_count": null,
   "id": "fb58a84f",
   "metadata": {},
   "outputs": [],
   "source": [
    "float(True)"
   ]
  },
  {
   "cell_type": "markdown",
   "id": "fc98646a",
   "metadata": {},
   "source": [
    "Casting from float to int will *truncate* the decimal place, **not round it** (if you want to round a number to the nearest integer, use the built-in function ```round()```) Booleans `True` and `False` are converted to `1` and `0`."
   ]
  },
  {
   "cell_type": "code",
   "execution_count": null,
   "id": "88565ceb",
   "metadata": {},
   "outputs": [],
   "source": [
    "int(2.0)"
   ]
  },
  {
   "cell_type": "code",
   "execution_count": null,
   "id": "1d5a1809",
   "metadata": {},
   "outputs": [],
   "source": [
    "int(2.9)"
   ]
  },
  {
   "cell_type": "code",
   "execution_count": null,
   "id": "1977a703",
   "metadata": {},
   "outputs": [],
   "source": [
    "round(2.9)"
   ]
  },
  {
   "cell_type": "code",
   "execution_count": null,
   "id": "35382329",
   "metadata": {},
   "outputs": [],
   "source": [
    "int(False)"
   ]
  },
  {
   "cell_type": "code",
   "execution_count": null,
   "id": "4265e576",
   "metadata": {},
   "outputs": [],
   "source": [
    "int(\"19\")"
   ]
  },
  {
   "cell_type": "markdown",
   "id": "58746653",
   "metadata": {},
   "source": [
    "Casting to a string will return a string containing the number or boolean value"
   ]
  },
  {
   "cell_type": "code",
   "execution_count": null,
   "id": "d696efb7",
   "metadata": {},
   "outputs": [],
   "source": [
    "str(29)"
   ]
  },
  {
   "cell_type": "code",
   "execution_count": null,
   "id": "ed49f717",
   "metadata": {},
   "outputs": [],
   "source": [
    "str(29.1)"
   ]
  },
  {
   "cell_type": "code",
   "execution_count": null,
   "id": "a658fc00",
   "metadata": {},
   "outputs": [],
   "source": [
    "str(True)"
   ]
  },
  {
   "cell_type": "markdown",
   "id": "739f8a87",
   "metadata": {},
   "source": [
    "Casting to boolean will return `False` for the integer `0`, float `0.0` or empty string \"\", and `True` for pretty much anything else"
   ]
  },
  {
   "cell_type": "code",
   "execution_count": null,
   "id": "4d2f37eb",
   "metadata": {},
   "outputs": [],
   "source": [
    "bool(0)"
   ]
  },
  {
   "cell_type": "code",
   "execution_count": null,
   "id": "7db2db57",
   "metadata": {},
   "outputs": [],
   "source": [
    "bool(1.0)"
   ]
  },
  {
   "cell_type": "code",
   "execution_count": null,
   "id": "80f30b61",
   "metadata": {},
   "outputs": [],
   "source": [
    "bool('')"
   ]
  },
  {
   "cell_type": "code",
   "execution_count": null,
   "id": "d7624c0f",
   "metadata": {},
   "outputs": [],
   "source": [
    "bool(\"pirates\")"
   ]
  },
  {
   "cell_type": "markdown",
   "id": "1ee23a11",
   "metadata": {},
   "source": [
    "Casting only works within a valid range of variables that can be converted. Invalid type casts will raise an *error*:"
   ]
  },
  {
   "cell_type": "code",
   "execution_count": null,
   "id": "efa301c7",
   "metadata": {},
   "outputs": [],
   "source": [
    "int(\"fourteen\")"
   ]
  },
  {
   "cell_type": "markdown",
   "id": "a3ebc159",
   "metadata": {},
   "source": [
    "### Calculations\n",
    "\n",
    "For many operations, *type casting* occurs automatically. Python's built-in mathematical functions work with any combination of *int* and *float* data types, and the python interpreter will assign the output as type *int* if possible, or *float* if not."
   ]
  },
  {
   "cell_type": "code",
   "execution_count": null,
   "id": "cceae786",
   "metadata": {},
   "outputs": [],
   "source": [
    "ans = 6 + 2\n",
    "ans"
   ]
  },
  {
   "cell_type": "code",
   "execution_count": null,
   "id": "ff5c363d",
   "metadata": {},
   "outputs": [],
   "source": [
    "type(ans)"
   ]
  },
  {
   "cell_type": "code",
   "execution_count": null,
   "id": "3a077668",
   "metadata": {},
   "outputs": [],
   "source": [
    "ans = 8 - 5.2\n",
    "ans"
   ]
  },
  {
   "cell_type": "code",
   "execution_count": null,
   "id": "8161f829",
   "metadata": {},
   "outputs": [],
   "source": [
    "type(ans)"
   ]
  },
  {
   "cell_type": "markdown",
   "id": "03f0dab6",
   "metadata": {},
   "source": [
    "Similarly for multiplication and division:"
   ]
  },
  {
   "cell_type": "code",
   "execution_count": null,
   "id": "30d967cf",
   "metadata": {},
   "outputs": [],
   "source": [
    "ans = 4 * 2\n",
    "type(ans)"
   ]
  },
  {
   "cell_type": "code",
   "execution_count": null,
   "id": "a41c3488",
   "metadata": {},
   "outputs": [],
   "source": [
    "ans = 5 / 2\n",
    "type(ans)"
   ]
  },
  {
   "cell_type": "markdown",
   "id": "f9835047",
   "metadata": {},
   "source": [
    "### Concatenation/Formatted Strings\n",
    "\n",
    "Often, we would like to stick strings together, or express a numerical value within an existing string. The python syntax offers several ways to do this. \n",
    "\n",
    "1. The `+` operator works to *concatenate* strings together, i.e. take the string to the right of the operator and stick it to the end of the string on the left"
   ]
  },
  {
   "cell_type": "code",
   "execution_count": null,
   "id": "dd586446",
   "metadata": {},
   "outputs": [],
   "source": [
    "str1 = \"race\"\n",
    "str2 = \"car\"\n",
    "\n",
    "str1 + str2"
   ]
  },
  {
   "cell_type": "markdown",
   "id": "85f0f56c",
   "metadata": {},
   "source": [
    "However, this doesn't work for combinations of string and numeric data types, as the `+` operator has a different meaning for int and float -- the interpreter can't figure out whether to add numeric values or concatenate strings."
   ]
  },
  {
   "cell_type": "code",
   "execution_count": null,
   "id": "09da606c",
   "metadata": {},
   "outputs": [],
   "source": [
    "num = 3\n",
    "print(num + \" blind mice\")"
   ]
  },
  {
   "cell_type": "markdown",
   "id": "f9c321da",
   "metadata": {},
   "source": [
    "There are a few ways to overcome this problem. \n",
    "\n",
    "A) Using *type casting*:"
   ]
  },
  {
   "cell_type": "code",
   "execution_count": null,
   "id": "8fc0c5b0",
   "metadata": {},
   "outputs": [],
   "source": [
    "print(str(3) + \" blind mice\")"
   ]
  },
  {
   "cell_type": "markdown",
   "id": "3c559cde",
   "metadata": {},
   "source": [
    "B) Use a *tuple* containing strings and numeric data:"
   ]
  },
  {
   "cell_type": "code",
   "execution_count": null,
   "id": "60fe614e",
   "metadata": {},
   "outputs": [],
   "source": [
    "print(3, \"blind mice\")"
   ]
  },
  {
   "cell_type": "markdown",
   "id": "cf342ef7",
   "metadata": {},
   "source": [
    "C) Using *f string literals*. Type the letter `f` at the beginning of a string, then insert any variable inside of curly brackets `{variable}` and it will format the variable into the string (This is the best way that will work in the largest variety of contexts):"
   ]
  },
  {
   "cell_type": "code",
   "execution_count": null,
   "id": "184e79fe",
   "metadata": {},
   "outputs": [],
   "source": [
    "print(f\"{3} blind mice\")"
   ]
  }
 ],
 "metadata": {
  "jupytext": {
   "formats": "ipynb,md:myst",
   "text_representation": {
    "extension": ".md",
    "format_name": "myst",
    "format_version": 0.13,
    "jupytext_version": "1.10.3"
   }
  },
  "kernelspec": {
   "display_name": "Python 3 (ipykernel)",
   "language": "python",
   "name": "python3"
  },
  "language_info": {
   "codemirror_mode": {
    "name": "ipython",
    "version": 3
   },
   "file_extension": ".py",
   "mimetype": "text/x-python",
   "name": "python",
   "nbconvert_exporter": "python",
   "pygments_lexer": "ipython3",
   "version": "3.8.10"
  }
 },
 "nbformat": 4,
 "nbformat_minor": 5
}
